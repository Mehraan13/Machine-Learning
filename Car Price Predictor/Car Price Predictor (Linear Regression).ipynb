{
 "cells": [
  {
   "cell_type": "code",
   "execution_count": 166,
   "id": "23bb6814",
   "metadata": {},
   "outputs": [],
   "source": [
    "import pandas as pd\n",
    "pd.options.mode.chained_assignment = None  # default='warn'"
   ]
  },
  {
   "cell_type": "code",
   "execution_count": 167,
   "id": "bda52c57",
   "metadata": {},
   "outputs": [],
   "source": [
    "df = pd.read_csv('Quikr_car.csv')"
   ]
  },
  {
   "cell_type": "code",
   "execution_count": 168,
   "id": "206c6592",
   "metadata": {},
   "outputs": [],
   "source": [
    "car_1 = df.drop('Unnamed: 0', axis = 1)\n"
   ]
  },
  {
   "cell_type": "code",
   "execution_count": 169,
   "id": "f5a294c7",
   "metadata": {},
   "outputs": [],
   "source": [
    "car_2 = car_1.drop('Label', axis = 1)\n"
   ]
  },
  {
   "cell_type": "code",
   "execution_count": 170,
   "id": "799ed296",
   "metadata": {},
   "outputs": [],
   "source": [
    "car = car_2.drop('Owner', axis = 1)"
   ]
  },
  {
   "cell_type": "code",
   "execution_count": 171,
   "id": "05cef13b",
   "metadata": {},
   "outputs": [],
   "source": [
    "#Quality issues\n",
    "#Cleaning the data\n",
    "backup = car.copy()"
   ]
  },
  {
   "cell_type": "code",
   "execution_count": 172,
   "id": "85ef7e79",
   "metadata": {},
   "outputs": [],
   "source": [
    "car['Year'] = car['Year'].astype(int)"
   ]
  },
  {
   "cell_type": "code",
   "execution_count": 173,
   "id": "37535ef7",
   "metadata": {},
   "outputs": [],
   "source": [
    "car['Price'] = car['Price'].str.replace('₹','')"
   ]
  },
  {
   "cell_type": "code",
   "execution_count": 174,
   "id": "bfda8eea",
   "metadata": {},
   "outputs": [],
   "source": [
    "car['Price'] = car['Price'].str.replace(',','')"
   ]
  },
  {
   "cell_type": "code",
   "execution_count": 175,
   "id": "e1db24a2",
   "metadata": {},
   "outputs": [],
   "source": [
    "car = car[car['Price']!='Ask For Price']\n",
    "car['Price'] = car['Price'].astype(int)\n"
   ]
  },
  {
   "cell_type": "code",
   "execution_count": 176,
   "id": "2e283429",
   "metadata": {},
   "outputs": [],
   "source": [
    "car['Kms_driven'] = car['Kms_driven'].str.split(' ').str.get(0).str.replace(',','')"
   ]
  },
  {
   "cell_type": "code",
   "execution_count": 177,
   "id": "e56cf961",
   "metadata": {},
   "outputs": [],
   "source": [
    "car['Kms_driven'] = car['Kms_driven'].astype(int)"
   ]
  },
  {
   "cell_type": "code",
   "execution_count": 178,
   "id": "78d94a21",
   "metadata": {},
   "outputs": [],
   "source": [
    "car['Fuel_type'].unique()"
   ]
  },
  {
   "cell_type": "code",
   "execution_count": 179,
   "id": "18384eee",
   "metadata": {},
   "outputs": [],
   "source": [
    "car['Name'] = car['Name'].str.split(' ').str.split(1,3).str.join(' ')"
   ]
  },
  {
   "cell_type": "code",
   "execution_count": null,
   "id": "6dbbc8a8",
   "metadata": {},
   "outputs": [],
   "source": [
    "#price column has outliers which are bad for learning\n",
    "car = car[car['Price']<5e6].reset_index(drop = True)"
   ]
  },
  {
   "cell_type": "code",
   "execution_count": 180,
   "id": "ab8037d2",
   "metadata": {},
   "outputs": [],
   "source": [
    "car"
   ]
  },
  {
   "cell_type": "code",
   "execution_count": null,
   "id": "683532df",
   "metadata": {},
   "outputs": [],
   "source": [
    "car.to_csv('Clean_car_data.csv')"
   ]
  },
  {
   "cell_type": "markdown",
   "id": "adad45fb",
   "metadata": {},
   "source": [
    "Model"
   ]
  },
  {
   "cell_type": "code",
   "execution_count": null,
   "id": "0461b03d",
   "metadata": {},
   "outputs": [],
   "source": [
    "X = car.drop(columns = 'Price')\n",
    "y = car['Price']"
   ]
  },
  {
   "cell_type": "code",
   "execution_count": null,
   "id": "7be730e0",
   "metadata": {},
   "outputs": [],
   "source": [
    "from sklearn.model_selection import train_test_split\n",
    "X_train, X_test, y_train, y_test = train_test_split(x,y, test_size = 0.2)"
   ]
  },
  {
   "cell_type": "code",
   "execution_count": null,
   "id": "0075d4ed",
   "metadata": {},
   "outputs": [],
   "source": [
    "from sklearn.linear_model import LinearRegression\n",
    "from sklearn.metrics import r2_score\n",
    "from sklearn.preprocessing import OneHotEncoder\n",
    "from sklearn.compose import make_column_transformer\n",
    "from sklearn.pipeline import make_pipeline"
   ]
  },
  {
   "cell_type": "code",
   "execution_count": null,
   "id": "cfac3834",
   "metadata": {},
   "outputs": [],
   "source": [
    "ohe = OneHotEncoder()\n",
    "ohe.fit(X[['Name','Location','Company','Fuel_type']])\n"
   ]
  },
  {
   "cell_type": "code",
   "execution_count": null,
   "id": "ff318135",
   "metadata": {},
   "outputs": [],
   "source": [
    "column_trans = make_column_transformer((OneHotEncoder(categories = ohe.categories_),['Name','Location','Company','Fuel_type']), remainder = 'passthrough')"
   ]
  },
  {
   "cell_type": "code",
   "execution_count": null,
   "id": "23ffbc3d",
   "metadata": {},
   "outputs": [],
   "source": [
    "lr = LinearRegression()"
   ]
  },
  {
   "cell_type": "code",
   "execution_count": null,
   "id": "5d18b427",
   "metadata": {},
   "outputs": [],
   "source": [
    "pipe = make_pipeline(column_trans,lr)"
   ]
  },
  {
   "cell_type": "code",
   "execution_count": null,
   "id": "56790712",
   "metadata": {},
   "outputs": [],
   "source": [
    "pipe.fit(X_train,y_train)"
   ]
  },
  {
   "cell_type": "code",
   "execution_count": null,
   "id": "5213e102",
   "metadata": {},
   "outputs": [],
   "source": [
    "y_pred = pipe.predict(X_test)\n"
   ]
  },
  {
   "cell_type": "code",
   "execution_count": null,
   "id": "0ac2e470",
   "metadata": {},
   "outputs": [],
   "source": [
    "r2_score(y_test,y_pred)"
   ]
  },
  {
   "cell_type": "code",
   "execution_count": null,
   "id": "2a4695c8",
   "metadata": {},
   "outputs": [],
   "source": []
  }
 ],
 "metadata": {
  "kernelspec": {
   "display_name": "Python 3 (ipykernel)",
   "language": "python",
   "name": "python3"
  },
  "language_info": {
   "codemirror_mode": {
    "name": "ipython",
    "version": 3
   },
   "file_extension": ".py",
   "mimetype": "text/x-python",
   "name": "python",
   "nbconvert_exporter": "python",
   "pygments_lexer": "ipython3",
   "version": "3.11.3"
  }
 },
 "nbformat": 4,
 "nbformat_minor": 5
}
